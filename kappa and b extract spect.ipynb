{
 "cells": [
  {
   "cell_type": "code",
   "execution_count": null,
   "metadata": {},
   "outputs": [],
   "source": [
    "import numpy as np\n",
    "import glob\n",
    "import os\n",
    "import pyklip.fm as fm\n",
    "from astropy.io import fits\n",
    "import pyklip.fmlib.extractSpec as es\n",
    "from pyklip.instruments import CHARIS as charis\n",
    "import pyklip.parallelized as parallelized\n",
    "import matplotlib.pyplot as plt\n",
    "import pandas as pd"
   ]
  },
  {
   "cell_type": "code",
   "execution_count": null,
   "metadata": {},
   "outputs": [],
   "source": [
    "image_files = glob.glob(\"images_path\")\n",
    "image_files.sort()"
   ]
  },
  {
   "cell_type": "code",
   "execution_count": null,
   "metadata": {},
   "outputs": [],
   "source": [
    "#dataset = charis.CHARISData(image_files,skipslices=[6,14,15,21])\n",
    "dataset = charis.CHARISData(image_files, update_hdrs=True)"
   ]
  },
  {
   "cell_type": "code",
   "execution_count": null,
   "metadata": {},
   "outputs": [],
   "source": [
    "# generate psf cube\n",
    "boxrad = 10\n",
    "dataset.generate_psfs(boxrad)"
   ]
  },
  {
   "cell_type": "code",
   "execution_count": null,
   "metadata": {},
   "outputs": [],
   "source": [
    "# obtain number of files and frames\n",
    "N_frames = len(dataset.input)\n",
    "N_cubes = np.size(np.unique(dataset.filenums))\n",
    "nl = N_frames // N_cubes"
   ]
  },
  {
   "cell_type": "code",
   "execution_count": null,
   "metadata": {},
   "outputs": [],
   "source": [
    "PSF_cube = dataset.psfs"
   ]
  },
  {
   "cell_type": "code",
   "execution_count": null,
   "metadata": {},
   "outputs": [],
   "source": [
    "# parameters\n",
    "pars = (56.790, 49.102)\n",
    "planet_sep, planet_pa = pars\n",
    "numbasis=[1,2,3,4,5,6,7,8,9,10,12,14,16,18,20]\n",
    "num_k_klip = len(numbasis)\n",
    "movement = 5\n",
    "stamp_size = 10\n",
    "plt.imshow(dataset.psfs[1])"
   ]
  },
  {
   "cell_type": "code",
   "execution_count": null,
   "metadata": {},
   "outputs": [],
   "source": [
    "fm_class = es.ExtractSpec(dataset.input.shape,\n",
    "                       numbasis,\n",
    "                       planet_sep,\n",
    "                       planet_pa,\n",
    "                       PSF_cube,\n",
    "                       np.unique(dataset.wvs),\n",
    "                       stamp_size = stamp_size)"
   ]
  },
  {
   "cell_type": "code",
   "execution_count": null,
   "metadata": {},
   "outputs": [],
   "source": [
    "fm.klip_dataset(dataset, fm_class,\n",
    "                fileprefix=\"fmspect\",\n",
    "                annuli=[[planet_sep-stamp_size,planet_sep+stamp_size]],\n",
    "                subsections=[[(planet_pa-stamp_size)/180.*np.pi,\\\n",
    "                              (planet_pa+stamp_size)/180.*np.pi]],\n",
    "                movement=movement,\n",
    "                numbasis = numbasis,\n",
    "                spectrum=None,\n",
    "                save_klipped=True, highpass=True,\n",
    "                outputdir=\"output_path\")"
   ]
  },
  {
   "cell_type": "code",
   "execution_count": null,
   "metadata": {},
   "outputs": [],
   "source": [
    "klipped = dataset.fmout[:,:,-1,:]"
   ]
  },
  {
   "cell_type": "code",
   "execution_count": null,
   "metadata": {},
   "outputs": [],
   "source": [
    "scale_factor = None\n",
    "units = \"natural\"\n",
    "exspect, fm_matrix = es.invert_spect_fmodel(dataset.fmout, dataset, units=units,\n",
    "                                            scaling_factor=scale_factor,\n",
    "                                            method=\"leastsq\")\n",
    "exspect"
   ]
  },
  {
   "cell_type": "code",
   "execution_count": null,
   "metadata": {},
   "outputs": [],
   "source": [
    "#ERROR BAR CALCULATION\n",
    "import pyklip.fakes as fakes\n",
    "\n",
    "def fake_spect(pa, fake_flux, basis):\n",
    "    psfs = np.tile(PSF_cube, (N_cubes, 1, 1))\n",
    "    fakepsf = psfs * fake_flux[0,None,None]\n",
    "    \n",
    "    #tempdataset = charis.CHARISData(image_files,skipslices=[6,14,15,21])\n",
    "    tempdataset = charis.CHARISData(image_files)\n",
    "    fakes.inject_planet(tempdataset.input, tempdataset.centers, fakepsf, tempdataset.wcs, planet_sep, pa)\n",
    "    \n",
    "    fm_class = es.ExtractSpec(tempdataset.input.shape,\n",
    "                       basis,\n",
    "                       planet_sep,\n",
    "                       pa,\n",
    "                       PSF_cube,\n",
    "                       np.unique(dataset.wvs),\n",
    "                       stamp_size = stamp_size)\n",
    "    \n",
    "    fm.klip_dataset(tempdataset, fm_class,\n",
    "                fileprefix=\"fmspect\"+\"pa_\"+str(pa),\n",
    "                annuli=[[planet_sep-stamp_size,planet_sep+stamp_size]],\n",
    "                subsections=[[(pa-stamp_size)/180.*np.pi,\\\n",
    "                              (pa+stamp_size)/180.*np.pi]],\n",
    "                movement=movement,\n",
    "                numbasis = basis,\n",
    "                spectrum=None,\n",
    "                save_klipped=True, highpass=True,\n",
    "                outputdir=\"output_path\"+str(basis))\n",
    "    \n",
    "    exspect_fake, fm_matrix_fake = es.invert_spect_fmodel(tempdataset.fmout, tempdataset, units=units,\n",
    "                                            scaling_factor=scale_factor,\n",
    "                                            method=\"leastsq\")\n",
    "    \n",
    "    del tempdataset\n",
    "    return exspect_fake\n",
    "\n",
    "npas = 11\n",
    "pas = (np.linspace(planet_pa, planet_pa+360, num=npas+2)%360)[1:-1]\n",
    "fake_spectra_all_bases = []\n",
    "for i in range(len(numbasis)):\n",
    "    input_spect = exspect[i,:]\n",
    "    fake_spectra = np.zeros((npas, nl))\n",
    "    for p, pa in enumerate(pas):\n",
    "        fake_spectra[p,:] = fake_spect(pa, input_spect, numbasis[i])\n",
    "    \n",
    "    fake_spectra_all_bases.append(fake_spectra)"
   ]
  },
  {
   "cell_type": "code",
   "execution_count": null,
   "metadata": {},
   "outputs": [],
   "source": [
    "from scipy import stats as spstat\n",
    "error = []\n",
    "for i in range(len(fake_spectra_all_bases)):\n",
    "    for j in range(nl):\n",
    "        x = fake_spectra_all_bases[i][:,j]\n",
    "        err = spstat.iqr(x)\n",
    "        error.append(err)\n",
    "        print(err)"
   ]
  },
  {
   "cell_type": "code",
   "execution_count": null,
   "metadata": {},
   "outputs": [],
   "source": [
    "e = np.array(error).reshape(int(len(error)/nl),nl)"
   ]
  },
  {
   "cell_type": "code",
   "execution_count": null,
   "metadata": {},
   "outputs": [],
   "source": [
    "#FLUX CALIBRATION\n",
    "import pysynphot as S\n",
    "from uncertainties import ufloat\n",
    "from uncertainties import unumpy\n",
    "print(S)\n",
    "current_dir = os.getcwd()\n",
    "os.chdir(\"cdbs_path\")\n",
    "\n",
    "R_star = ufloat(2.29, 0.06) * 6.957 * (10**5)\n",
    "D_star = ufloat(50.0, 0.1) * 3.086e13\n",
    "\n",
    "#satellite spot to star ratio\n",
    "spot_to_star_ratio = np.array([2.72*(10**-3)/(lamb/1.55)**2 for lamb in dataset.wvs[0:nl]])\n",
    "\n",
    "#star spectrum\n",
    "sp = S.Icat('ck04models', 11327, -0.36, 4.174)\n",
    "sp.convert(\"micron\")\n",
    "sp.convert(\"mJy\")\n",
    "star_spectrum = np.array([sp.sample(dataset.wvs[i]) for i in range(nl)]) * (R_star / D_star)**2\n",
    "\n",
    "#convert to ufloat\n",
    "new_exspect = np.ndarray(shape=np.shape(exspect), dtype=object)\n",
    "for i in range(len(exspect)):\n",
    "    for j in range(nl):\n",
    "        new_exspect[i][j] = ufloat(exspect[i,j],e[i,j])\n",
    "\n",
    "#perform actual calibration\n",
    "exspect_flux = new_exspect * star_spectrum * spot_to_star_ratio\n",
    "#exspect_flux = exspect * star_spectrum * spot_to_star_ratio\n",
    "\n",
    "#separate values\n",
    "actual_values = np.zeros(np.shape(exspect))\n",
    "error_bars = np.zeros(np.shape(exspect))\n",
    "for i in range(len(exspect)):\n",
    "    for j in range(nl):\n",
    "        actual_values[i][j] = exspect_flux[i][j].nominal_value\n",
    "        error_bars[i][j] = exspect_flux[i][j].std_dev\n",
    "\n",
    "\n",
    "os.chdir(\"notebook_path\")"
   ]
  },
  {
   "cell_type": "code",
   "execution_count": null,
   "metadata": {},
   "outputs": [],
   "source": [
    "#create spectrum figure\n",
    "import matplotlib.pyplot as plt\n",
    "import math\n",
    "\n",
    "    ref_wvs = [1.1596,1.1997,1.2412,1.2842,1.3286,1.3746,1.4222\n",
    "           ,1.4714,1.5224,1.575,1.6296,1.686,1.7443,1.8047\n",
    "           ,1.8672,1.9318,1.9987,2.0678,2.1394,2.2135,2.2901\n",
    "           ,2.3693]\n",
    "\n",
    "ref_valu = [0.591,0.6112,0.6942,0.8349,0.7658,0.2586,0.5371,0.583,\n",
    "            0.8103,0.8248,1.1274,1.2744,1.019,0.8616,0.6344,0.975,\n",
    "            0.8215,1.0233,1.2442,1.3643,1.2739,1.203]\n",
    "ref_err = [0.0567,0.0529,0.0498,0.0487,0.0426,0.0403,0.0395,0.0393\n",
    "           ,0.0397,0.0405,0.0375,0.0351,0.036,0.031,0.0508,0.0429\n",
    "           ,0.036,0.0338,0.0477,0.0492,0.059,0.0832]\n",
    "\n",
    "\n",
    "fig = plt.figure(figsize=(20,20), )\n",
    "for i in range(len(numbasis)):\n",
    "    ax = fig.add_subplot(math.ceil(len(numbasis)/4)+1,4,i+1)\n",
    "    title = \"Kappa And b Spectrum (KL={basis})\"\n",
    "    ax.set_title(title.format(basis=numbasis[i]))\n",
    "    y_axis = \"flux ({flux_units})\"\n",
    "    x_axis = \"wavelength ({wv_units})\"\n",
    "    ax.set(xlabel=x_axis.format(wv_units=sp.waveunits), ylabel=y_axis.format(flux_units=sp.fluxunits))\n",
    "    ax.errorbar(dataset.wvs[:nl], actual_values[i], yerr=error_bars[i], label='pyKLIP', capsize=3)\n",
    "    ax.errorbar(ref_wvs, ref_valu, yerr=ref_err, label='Currie et al', capsize=3)\n",
    "    ax.legend()\n",
    "    \n",
    "ax = fig.add_subplot(math.ceil(len(numbasis)/4) + 1,1,5)\n",
    "ax.set_title(\"Kappa And b Spectra\")\n",
    "ax.set(xlabel=x_axis.format(wv_units=sp.waveunits), ylabel=y_axis.format(flux_units=sp.fluxunits))\n",
    "for i in range(len(numbasis)):\n",
    "    ax.plot(dataset.wvs[:nl], actual_values[i], label=str(numbasis[i]))\n",
    "    ax.legend()\n",
    "\n",
    "plt.tight_layout()"
   ]
  },
  {
   "cell_type": "code",
   "execution_count": null,
   "metadata": {},
   "outputs": [],
   "source": [
    "#create magnitude comparison figure\n",
    "ref_magnitudes = [11.58,10.70,10.05]\n",
    "ref_error = [0.0985,0.086,0.086]\n",
    "ref_wvs = np.array([1.250,1.635,2.150])\n",
    "mag_val = new_exspect[:,[2,10,18]]\n",
    "mag_wvs = np.array([dataset.wvs[2], dataset.wvs[10], dataset.wvs[18]])\n",
    "\n",
    "mag_val = -2.5*unumpy.log10(mag_val*spot_to_star_ratio[[2,10,18]])\n",
    "\n",
    "#separate values\n",
    "actual_mag_val = np.zeros(np.shape(mag_val))\n",
    "mag_error_bars = np.zeros(np.shape(mag_val))\n",
    "for i in range(len(mag_val)):\n",
    "    for j in range(3):\n",
    "        actual_mag_val[i][j] = mag_val[i][j].nominal_value\n",
    "        mag_error_bars[i][j] = mag_val[i][j].std_dev\n",
    "\n",
    "\n",
    "fig, ax = plt.subplots()\n",
    "ax.set_title(r'$\\Delta$J, $\\Delta$H, $\\Delta$K Comparison')\n",
    "ax.set(xlabel=x_axis.format(wv_units=sp.waveunits), ylabel=\"Difference in planet and star magnitude\")\n",
    "for i in range(len(numbasis)):\n",
    "    ax.errorbar(mag_wvs, actual_mag_val[i], yerr=mag_error_bars[i], label='pyKLIP', capsize=3, color=\"orange\")\n",
    "ax.errorbar(ref_wvs, ref_magnitudes, yerr=ref_error, label='Currie et al', capsize=3)\n",
    "handles, labels = ax.get_legend_handles_labels()\n",
    "by_label = dict(zip(labels, handles))\n",
    "ax.legend(by_label.values(), by_label.keys())\n",
    "ax.set_ylim(9,13)"
   ]
  },
  {
   "cell_type": "code",
   "execution_count": null,
   "metadata": {},
   "outputs": [],
   "source": [
    "#export spectra as csv\n",
    "star_spect_val = []\n",
    "star_spect_err = []\n",
    "for i in range(len(star_spectrum)):\n",
    "    star_spect_val.append(star_spectrum[i].nominal_value)\n",
    "    star_spect_err.append(star_spectrum[i].std_dev)\n",
    "\n",
    "data = {\"wvs\":dataset.wvs[:nl], \"star_spect\":star_spect_val, \"star_err\":star_spect_err}\n",
    "for i in range(len(numbasis)):\n",
    "    data[numbasis[i]] = exspect[i]\n",
    "\n",
    "df = pd.DataFrame(data)\n",
    "df.to_csv(\"output_path\")\n",
    "\n",
    "data = {\"wvs\":dataset.wvs[:nl]}\n",
    "for i in range(len(numbasis)):\n",
    "    data[numbasis[i]] = e[i]\n",
    "\n",
    "df = pd.DataFrame(data)\n",
    "df.to_csv(\"output_path\")"
   ]
  }
 ],
 "metadata": {
  "kernelspec": {
   "display_name": "Python 3",
   "language": "python",
   "name": "python3"
  },
  "language_info": {
   "codemirror_mode": {
    "name": "ipython",
    "version": 3
   },
   "file_extension": ".py",
   "mimetype": "text/x-python",
   "name": "python",
   "nbconvert_exporter": "python",
   "pygments_lexer": "ipython3",
   "version": "3.7.3"
  }
 },
 "nbformat": 4,
 "nbformat_minor": 2
}
